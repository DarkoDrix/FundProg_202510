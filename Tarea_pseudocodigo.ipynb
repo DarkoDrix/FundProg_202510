{
  "nbformat": 4,
  "nbformat_minor": 0,
  "metadata": {
    "colab": {
      "provenance": [],
      "authorship_tag": "ABX9TyNP7j1zeUmWyMmP7IWaqtOh",
      "include_colab_link": true
    },
    "kernelspec": {
      "name": "python3",
      "display_name": "Python 3"
    },
    "language_info": {
      "name": "python"
    }
  },
  "cells": [
    {
      "cell_type": "markdown",
      "metadata": {
        "id": "view-in-github",
        "colab_type": "text"
      },
      "source": [
        "<a href=\"https://colab.research.google.com/github/DarkoDrix/FundProg_202510/blob/main/Tarea_pseudocodigo.ipynb\" target=\"_parent\"><img src=\"https://colab.research.google.com/assets/colab-badge.svg\" alt=\"Open In Colab\"/></a>"
      ]
    },
    {
      "cell_type": "markdown",
      "source": [
        "#Algoritmo - Ejercicio 1\n",
        "\n",
        "1. Inicio\n",
        "2. Definir n como numero de resistencias en paralelo\n",
        "3. Solicitar al usuario el valor de las resistencias en ohmios\n",
        "4. Calcular el inverso de cada resistencia\n",
        "5. Sumar los valores\n",
        "6. Calcular la resistencia equivalente\n",
        "7. Mostrar el resultado en ohmios\n",
        "8. Fin"
      ],
      "metadata": {
        "id": "4HIAsPmaMlJB"
      }
    },
    {
      "cell_type": "markdown",
      "source": [
        "```\n",
        "\n",
        "start\n",
        "  // Ejercicio 1\n",
        "\n",
        "  program resistencia_equivalente\n",
        "\n",
        "\n",
        "  declare int n = 3 //para referirnos a la cantidad de resistencias en paralelo\n",
        "  declare real r1\n",
        "  declare real r2\n",
        "  declare real r3\n",
        "  declare real req\n",
        "\n",
        "  display\"Ingresa el valor de la resistencia 1: \"\n",
        "  input r1\n",
        "\n",
        "  display\"Ingresa el valor de la resistencia 2: \"\n",
        "  input r2\n",
        "\n",
        "  display\"Ingresa el valor de la resistencia 3: \"\n",
        "  input r3\n",
        "\n",
        "  set req = 1 / (1/r1 + 1/r2 + 1/r3)\n",
        "\n",
        "  display\"La resistencia equivalente de \",n,\"resistencias en paralelo es de: \",req,\"ohmios.\"\n",
        "end\n",
        "```"
      ],
      "metadata": {
        "id": "9c5e746p4qz_"
      }
    },
    {
      "cell_type": "code",
      "source": [
        "#Ejercicio 1\n",
        "\n",
        "n = 3 #Para referirnos a la cantidad de resistencias en paralelo\n",
        "r1 = float(input(\"Ingresa el valor de la resistencia 1: \"))\n",
        "r2 = float(input(\"Ingresa el valor de la resistencia 2: \"))\n",
        "r3 = float(input(\"Ingresa el valor de la resistencia 3: \"))\n",
        "req = 1/(1/r1 + 1/r2 + 1/r3)\n",
        "\n",
        "print(\"La resistencia equivalente de \",n,\"resistencias en paralelo es de: \",req,\"ohmios.\")"
      ],
      "metadata": {
        "id": "-EKn4hzE4wnb"
      },
      "execution_count": null,
      "outputs": []
    },
    {
      "cell_type": "markdown",
      "source": [
        "#Algoritmo - Ejercicio 2\n",
        "\n",
        "1. Inicio\n",
        "2. Solicitar al usuario el valor de la resistencia en ohmios\n",
        "3. Solicitar al usuario el valor de la corriente en amperios\n",
        "4. Calcular la potencia: P = I^2 * R\n",
        "5. Mostrar el resultado en vatios\n",
        "6. Fin"
      ],
      "metadata": {
        "id": "mYVZ9wgWOPPY"
      }
    },
    {
      "cell_type": "markdown",
      "source": [
        "```\n",
        "start\n",
        "// Ejercicio 2\n",
        "\n",
        "program potencia\n",
        "\n",
        "declare real r\n",
        "declare real i\n",
        "declare real potencia\n",
        "\n",
        "display\"Ingresa el valor de la resistencia: \"\n",
        "input r\n",
        "\n",
        "display\"Ingresa el valor de la corriente: \"\n",
        "input i\n",
        "\n",
        "set potencia = i^2 * r\n",
        "\n",
        "display\"La potencia es de: \",potencia,\"vatios\"\n",
        "\n",
        "end\n",
        "```"
      ],
      "metadata": {
        "id": "U6Ey0K8SSr0j"
      }
    },
    {
      "cell_type": "code",
      "source": [
        "#Ejercicio 2\n",
        "r = float(input(\"Ingresa el valor de la resistencia: \"))\n",
        "i = float(input(\"Ingresa el valor de la corriente: \"))\n",
        "\n",
        "potencia = i**2 * r\n",
        "\n",
        "print(\"La potencia es de: \",potencia,\"vatios\")"
      ],
      "metadata": {
        "id": "b5GNl5yJTeNM"
      },
      "execution_count": null,
      "outputs": []
    },
    {
      "cell_type": "markdown",
      "source": [
        "#Algoritmo - Ejercicio 3\n",
        "\n",
        "1. Inicio\n",
        "2. Solicitar al usuario el valor de la tensión en voltios\n",
        "3. Solicitar al usuario el valor de la resistencia en ohmios\n",
        "4. Calcular la corriente:  i = v/r\n",
        "5. Mostrar el resultado en amperios\n",
        "6. Fin"
      ],
      "metadata": {
        "id": "58EJrat0R2-f"
      }
    },
    {
      "cell_type": "markdown",
      "source": [
        "```\n",
        "start\n",
        "// Ejercicio 3\n",
        "\n",
        "program corriente_electrica\n",
        "\n",
        "declare real v\n",
        "declare real r\n",
        "declare real i\n",
        "\n",
        "display\"Ingrese el valor de la tension (voltios): \"\n",
        "input v\n",
        "\n",
        "display\"Ingrese el valor de la resistencia (ohmios): \"\n",
        "input r\n",
        "\n",
        "set i = v/r\n",
        "\n",
        "display\"La corriente electrica es: \",i,\"amperios\"\n",
        "\n",
        "end\n",
        "```"
      ],
      "metadata": {
        "id": "5T0N-PseT8Nx"
      }
    },
    {
      "cell_type": "code",
      "source": [
        "#Ejercicio 3\n",
        "v = float(input(\"Ingrese el valor de la tensión (voltios): \"))\n",
        "r = float(input(\"Ingrese el valor de la resistencia (ohmios): \"))\n",
        "\n",
        "i = v/r\n",
        "\n",
        "print(\"La corriente electrica es: \",i,\"amperios\")"
      ],
      "metadata": {
        "id": "vWpcHIE8Uk0k"
      },
      "execution_count": null,
      "outputs": []
    },
    {
      "cell_type": "markdown",
      "source": [
        "#Algoritmo - Ejercicio 4\n",
        "\n",
        "1. Inicio\n",
        "2. Solicitar al usuario el valor de la resistencia en ohmios\n",
        "3. Solicitar al usuario el valor de la capacitancia en faradios\n",
        "4. Calcular la constante de tiempo: t = r*c\n",
        "5. Mostrar resultado del valor en segundos\n",
        "6. Fin"
      ],
      "metadata": {
        "id": "jcClUx4zTn90"
      }
    },
    {
      "cell_type": "markdown",
      "source": [
        "```\n",
        "start\n",
        "  // Ejercicio 4\n",
        "  \n",
        "  program constante_de_tiempo\n",
        "\n",
        "  declare real r\n",
        "  declare real c\n",
        "  declare real t\n",
        "\n",
        "  display\"Ingrese el valor de la resistencia (Ohmios): \"\n",
        "  input r\n",
        "\n",
        "  display\"Ingrese el valor de la capacitancia (faradios): \"\n",
        "  input c\n",
        "\n",
        "  set t = r*c\n",
        "\n",
        "  display\"La constante de tiempo es de: \",t,\"segundos\"\n",
        "  \n",
        "end\n",
        "```"
      ],
      "metadata": {
        "id": "DD7ZmFr3Uqhp"
      }
    },
    {
      "cell_type": "code",
      "source": [
        "#Ejercicio 4\n",
        "r = float(input(\"Ingrese el valor de la resistencia (Ohmios): \"))\n",
        "c = float(input(\"Ingrese el valor de la capacitancia (Faradios): \"))\n",
        "\n",
        "t = r*c\n",
        "\n",
        "print(\"La constante de tiempo es de: \",t,\"segundos\")"
      ],
      "metadata": {
        "id": "0yCmIuiPVs4x"
      },
      "execution_count": null,
      "outputs": []
    },
    {
      "cell_type": "markdown",
      "source": [
        "#Algoritmo - Ejercicio 5\n",
        "\n",
        "1. inicio\n",
        "2. definimos el numero de horas\n",
        "3. solicitamos al usuario las potencias promedio\n",
        "4. las sumamos para obtener la energia total\n",
        "5. mostramos la energia total consumida\n",
        "6. fin\n"
      ],
      "metadata": {
        "id": "24ap6MtNaqgY"
      }
    },
    {
      "cell_type": "markdown",
      "source": [
        "```\n",
        "\n",
        "program consumo_de_energia\n",
        "\n",
        "//Ejercicio 5\n",
        "\n",
        "start\n",
        "  declare int horas = 3\n",
        "\n",
        "  //suponiendo que hay 3 horas, deben haber 3 tipos de potencia promedio diferentes.\n",
        "\n",
        "  declare real potencia_promedio1\n",
        "  declare real potencia_promedio2\n",
        "  declare real potencia_promedio3\n",
        "  declare real energia_total\n",
        "  \n",
        "  display\"La potencia promedio en la primera hora fue de (kwh): \"\n",
        "  input potencia_promedio1\n",
        "\n",
        "  display\"La potencia promedio en la segunda hora fue de (kwh): \"\n",
        "  input potencia_promedio2\n",
        "\n",
        "  display\"La potencia promedio en la tercera hora fue de (kwh): \"\n",
        "  input potencia_promedio3\n",
        "\n",
        "  set energia_total = potencia_promedio1 + potencia_promedio2 + potencia_promedio3\n",
        "\n",
        "  display\"La energia total consumida en \",horas,\" fue de: \",energia_total\n",
        "end\n",
        "```"
      ],
      "metadata": {
        "id": "GJwMWoOV4H66"
      }
    },
    {
      "cell_type": "code",
      "source": [
        "#Ejercicio 5\n",
        "\n",
        "horas = 3\n",
        "#suponiendo que hay 3 horas, deben de haber 3 tipos de potencia promedio diferentes por hora.\n",
        "potencia_promedio1 = float(input(\"La potencia promedio en la primera hora fue de (kwh): \"))\n",
        "potencia_promedio2 = float(input(\"La potencia promedio en la segunda hora fue de (kwh): \"))\n",
        "potencia_promedio3 = float(input(\"La potencia promedio en la tercera hora fue de (kwh): \"))\n",
        "\n",
        "energia_total = potencia_promedio1 + potencia_promedio2 + potencia_promedio3\n",
        "\n",
        "print(\"La energia total consumida en \",horas,\" fue de: \",energia_total)"
      ],
      "metadata": {
        "id": "Jors7RPO4hS3"
      },
      "execution_count": null,
      "outputs": []
    }
  ]
}